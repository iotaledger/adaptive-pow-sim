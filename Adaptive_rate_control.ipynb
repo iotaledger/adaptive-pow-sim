{
 "cells": [
  {
   "cell_type": "code",
   "execution_count": null,
   "metadata": {},
   "outputs": [],
   "source": [
    "import numpy as np\n",
    "import random\n",
    "import matplotlib.pyplot as plt\n",
    "import pdb"
   ]
  },
  {
   "cell_type": "code",
   "execution_count": null,
   "metadata": {},
   "outputs": [],
   "source": [
    "# INPUT PARAMETERS\n",
    "\n",
    "def input_param():\n",
    "    w = 1000000         # time window [in ms]\n",
    "    g = 0.1             # gamma parameter\n",
    "    d = 10              # base difficulty\n",
    "    MAX_TX = 5000       # number of txs generated\n",
    "    \n",
    "    return w, g, d, MAX_TX"
   ]
  },
  {
   "cell_type": "code",
   "execution_count": null,
   "metadata": {},
   "outputs": [],
   "source": [
    "####### SINGLE NODE ANALYSIS WITH ADAPTIVE POW ########\n",
    "#######################################################\n",
    "\n",
    "tx = []\n",
    "delay = []\n",
    "dif = []\n",
    "mu = 10**-7      # CPU power\n",
    "\n",
    "[w, g, d, MAX_TX] = input_param()\n",
    "\n",
    "r = 0.3 + 0.4*np.random.rand(MAX_TX)\n",
    "x = d\n",
    "\n",
    "for i in range(MAX_TX):\n",
    "\n",
    "    # PoW time (40 is a scale factor to convert time in ms)\n",
    "    delay.append(mu*3**x*r[i]/40)\n",
    "    if i > 0:\n",
    "        tx.append(tx[i-1] + mu*3**x*r[i]/40)\n",
    "    else:\n",
    "        tx.append(mu*3**x*r[i]/40)\n",
    "    dif.append(x)\n",
    "    \n",
    "    # adapt difficulty\n",
    "    a = (sum(1 for j in tx if j <= tx[i] and j > max(tx[i] - w, 0)))    # compute how many txs in the prev time window\n",
    "    x = d + np.floor(a*g)                                               # set the new difficulty\n",
    "    \n",
    "    if i % 500 == 0:\n",
    "        print(i)"
   ]
  },
  {
   "cell_type": "code",
   "execution_count": null,
   "metadata": {},
   "outputs": [],
   "source": [
    "# PoW difficulty plot\n",
    "\n",
    "fig = plt.figure()\n",
    "plt.plot(dif)\n",
    "plt.xlabel(\"Sequence of txs\")\n",
    "plt.ylabel(\"PoW difficulty\")\n",
    "plt.grid()\n",
    "plt.show()"
   ]
  },
  {
   "cell_type": "code",
   "execution_count": null,
   "metadata": {},
   "outputs": [],
   "source": [
    "# Time to compute the PoW\n",
    "\n",
    "fig = plt.figure()\n",
    "plt.plot(np.array(delay)/1000, linewidth=0.2)\n",
    "plt.plot(np.mean(delay)*np.ones((MAX_TX))/1000, color=\"r\", linewidth=2)\n",
    "plt.xlabel(\"Sequence of txs\")\n",
    "plt.ylabel(\"PoW time\")\n",
    "plt.grid()\n",
    "plt.show()"
   ]
  },
  {
   "cell_type": "code",
   "execution_count": null,
   "metadata": {},
   "outputs": [],
   "source": [
    "# Throughput [tps]\n",
    "\n",
    "fig = plt.figure()\n",
    "plt.semilogy((np.array(range(MAX_TX))+1)*1000/np.array(tx))\n",
    "plt.grid()\n",
    "plt.xlabel(\"Sequence of txs\")\n",
    "plt.ylabel(\"Throughput\")\n",
    "plt.show()"
   ]
  },
  {
   "cell_type": "code",
   "execution_count": null,
   "metadata": {},
   "outputs": [],
   "source": [
    "######## SINGLE NODE ANALYSIS WITH FIXED POW ##########\n",
    "#######################################################\n",
    "\n",
    "MAX_TX = 5000\n",
    "tx = []\n",
    "delay = []\n",
    "mu = 10**-7     # CPU power\n",
    "\n",
    "# set the PoW difficulty x as the base difficulty\n",
    "x = 14\n",
    "\n",
    "r = 0.3 + 0.4*np.random.rand(MAX_TX)\n",
    "\n",
    "for i in range(MAX_TX):\n",
    "\n",
    "    # PoW time (40 is a scale factor to convert time in ms)\n",
    "    delay.append(mu*3**x*r[i]/40)\n",
    "    if i > 0:\n",
    "        tx.append(tx[i-1] + mu*3**x*r[i]/40)\n",
    "    else:\n",
    "        tx.append(mu*3**x*r[i]/40)\n",
    "    \n",
    "    if i % 500 == 0:\n",
    "        print(i)"
   ]
  },
  {
   "cell_type": "code",
   "execution_count": null,
   "metadata": {},
   "outputs": [],
   "source": [
    "# Time to compute the PoW\n",
    "\n",
    "fig = plt.figure()\n",
    "plt.plot(np.array(delay)/1000, linewidth=0.2)\n",
    "plt.plot(np.mean(delay)*np.ones((MAX_TX))/1000, color=\"r\", linewidth=2)\n",
    "plt.xlabel(\"Sequence of txs\")\n",
    "plt.ylabel(\"PoW time\")\n",
    "plt.grid()\n",
    "plt.show()"
   ]
  },
  {
   "cell_type": "code",
   "execution_count": null,
   "metadata": {},
   "outputs": [],
   "source": [
    "# Throughput [tps]\n",
    "\n",
    "fig = plt.figure()\n",
    "plt.plot((np.array(range(MAX_TX))+1)*1000/np.array(tx))\n",
    "plt.grid()\n",
    "plt.xlabel(\"Sequence of txs\")\n",
    "plt.ylabel(\"Throughput\")\n",
    "plt.show()"
   ]
  },
  {
   "cell_type": "code",
   "execution_count": null,
   "metadata": {},
   "outputs": [],
   "source": [
    "######## SENSITIVITY ANALYSIS ON GAMMA PARAMETER #########\n",
    "##########################################################\n",
    "\n",
    "MAX_TX = 2000\n",
    "tps = []\n",
    "mu_vector = [10**0, 10**-1, 10**-7]      # CPU power\n",
    "g_vector = [0, 0.001, 0.01, 0.1, 0.2, 0.5, 1]\n",
    "[w, _, d, _] = input_param()\n",
    "\n",
    "for g in g_vector:\n",
    "\n",
    "    print(\"Gamma = \" + str(g))\n",
    "    \n",
    "    for mu in mu_vector:\n",
    "    \n",
    "        # set the PoW difficulty x as the base difficulty\n",
    "        x = d\n",
    "        tx = []\n",
    "        r = 0.3 + 0.4*np.random.rand(MAX_TX)\n",
    "\n",
    "        for i in range(MAX_TX):\n",
    "\n",
    "            # PoW time (40 is a scale factor to convert time in ms)\n",
    "            #delay.append(mu*3**x*r[i]/40)\n",
    "            if i > 0:\n",
    "                tx.append(tx[i-1] + mu*3**x*r[i]/40)\n",
    "            else:\n",
    "                tx.append(mu*3**x*r[i]/40)\n",
    "            #dif.append(x)\n",
    "\n",
    "            # adapt difficulty\n",
    "            a = (sum(1 for j in tx if j <= tx[i] and j > max(tx[i] - w, 0)))    # compute how many txs in the prev time window\n",
    "            x = d + np.floor(a*g)                                               # set the new difficulty\n",
    "\n",
    "        print((MAX_TX+1)*1000/np.array(tx[MAX_TX - 1]))\n",
    "        tps.append((MAX_TX+1)*1000/np.array(tx[MAX_TX - 1]))"
   ]
  },
  {
   "cell_type": "code",
   "execution_count": null,
   "metadata": {},
   "outputs": [],
   "source": [
    "# Plot - sensitivity analysis of gamma parameter\n",
    "\n",
    "t = np.reshape(tps, (7, 3))\n",
    "\n",
    "fig = plt.figure(figsize=(10, 6))\n",
    "\n",
    "plt.loglog(g_vector, t)\n",
    "plt.grid()\n",
    "plt.ylabel(\"throughput [tps]\")\n",
    "plt.xlabel(\"gamma\")\n",
    "plt.legend([\"IoT\", \"Laptop\", \"FPGA\"])\n",
    "plt.show()"
   ]
  }
 ],
 "metadata": {
  "kernelspec": {
   "display_name": "Python [conda env:Anaconda2]",
   "language": "python",
   "name": "conda-env-Anaconda2-py"
  },
  "language_info": {
   "codemirror_mode": {
    "name": "ipython",
    "version": 2
   },
   "file_extension": ".py",
   "mimetype": "text/x-python",
   "name": "python",
   "nbconvert_exporter": "python",
   "pygments_lexer": "ipython2",
   "version": "2.7.15"
  }
 },
 "nbformat": 4,
 "nbformat_minor": 2
}
